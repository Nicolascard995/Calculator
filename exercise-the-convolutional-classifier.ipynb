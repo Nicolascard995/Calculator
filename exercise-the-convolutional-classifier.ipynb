{
 "cells": [
  {
   "cell_type": "markdown",
   "id": "a8e56f5c",
   "metadata": {
    "_cell_guid": "e946180c-5585-4423-a122-e2da83f5c9a8",
    "_uuid": "a0cc735c-38d1-4f69-a445-73a6dcf9b5ab",
    "papermill": {
     "duration": 0.006717,
     "end_time": "2023-05-05T07:36:56.521694",
     "exception": false,
     "start_time": "2023-05-05T07:36:56.514977",
     "status": "completed"
    },
    "tags": []
   },
   "source": [
    "**This notebook is an exercise in the [Computer Vision](https://www.kaggle.com/learn/computer-vision) course.  You can reference the tutorial at [this link](https://www.kaggle.com/ryanholbrook/the-convolutional-classifier).**\n",
    "\n",
    "---"
   ]
  },
  {
   "cell_type": "markdown",
   "id": "aa570545",
   "metadata": {
    "_cell_guid": "081a3c2d-40aa-4733-9be2-313b13e7774c",
    "_uuid": "39946939-03e1-4e90-be97-95aeed3b59d7",
    "papermill": {
     "duration": 0.004261,
     "end_time": "2023-05-05T07:36:56.530446",
     "exception": false,
     "start_time": "2023-05-05T07:36:56.526185",
     "status": "completed"
    },
    "tags": []
   },
   "source": [
    "<blockquote style=\"margin-right:auto; margin-left:auto; background-color: #ebf9ff; padding: 1em; margin:24px;\">\n",
    "    <strong>Accelerate Training with a Kaggle GPU!</strong><br>\n",
    "Did you know Kaggle offers free time with a GPU accelerator? You can speed up training neural networks in this course by switching to <strong>GPU</strong> in the <em>Accelerator</em> option on the right. (It may already be turned on.) Two things to be aware of:\n",
    "<ul>\n",
    "<li>Changing the <em>Accelerator</em> option will cause the notebook session to restart. You'll need to rerun any setup code.\n",
    "<li>You can have only one GPU session at a time, so be sure to shut the notebook down after you've finished the exercise.\n",
    "</ul>\n",
    "</blockquote>"
   ]
  },
  {
   "cell_type": "markdown",
   "id": "91073986",
   "metadata": {
    "_cell_guid": "6eb6845a-0536-4776-8607-87e8c2cd97ad",
    "_uuid": "ed2a94bf-b6f1-4138-90a9-403295c72005",
    "papermill": {
     "duration": 0.004284,
     "end_time": "2023-05-05T07:36:56.538974",
     "exception": false,
     "start_time": "2023-05-05T07:36:56.534690",
     "status": "completed"
    },
    "tags": []
   },
   "source": [
    "# Introduction #\n",
    "\n",
    "In the tutorial, we saw how to build an image classifier by attaching a head of dense layers to a pretrained base. The base we used was from a model called **VGG16**. We saw that the VGG16 architecture was prone to overfitting this dataset. Over this course, you'll learn a number of ways you can improve upon this initial attempt.\n",
    "\n",
    "The first way you'll see is to use a base more appropriate to the dataset. The base this model comes from is called **InceptionV1** (also known as GoogLeNet). InceptionV1 was one of the early winners of the ImageNet competition. One of its successors, InceptionV4, is among the state of the art today.\n",
    "\n",
    "To get started, run the code cell below to set everything up."
   ]
  },
  {
   "cell_type": "code",
   "execution_count": 1,
   "id": "6d754173",
   "metadata": {
    "_cell_guid": "b6466805-7e3c-4436-9e66-211a0ec8d2e3",
    "_uuid": "7d199749-f9e8-414e-90b8-d28e3e8c13b7",
    "collapsed": false,
    "execution": {
     "iopub.execute_input": "2023-05-05T07:36:56.550101Z",
     "iopub.status.busy": "2023-05-05T07:36:56.548889Z",
     "iopub.status.idle": "2023-05-05T07:37:13.381483Z",
     "shell.execute_reply": "2023-05-05T07:37:13.380432Z"
    },
    "jupyter": {
     "outputs_hidden": false
    },
    "lines_to_next_cell": 2,
    "papermill": {
     "duration": 16.840594,
     "end_time": "2023-05-05T07:37:13.383718",
     "exception": false,
     "start_time": "2023-05-05T07:36:56.543124",
     "status": "completed"
    },
    "tags": []
   },
   "outputs": [
    {
     "name": "stderr",
     "output_type": "stream",
     "text": [
      "/opt/conda/lib/python3.10/site-packages/scipy/__init__.py:146: UserWarning: A NumPy version >=1.16.5 and <1.23.0 is required for this version of SciPy (detected version 1.23.5\n",
      "  warnings.warn(f\"A NumPy version >={np_minversion} and <{np_maxversion}\"\n"
     ]
    },
    {
     "name": "stdout",
     "output_type": "stream",
     "text": [
      "Found 5117 files belonging to 2 classes.\n",
      "Found 5051 files belonging to 2 classes.\n"
     ]
    }
   ],
   "source": [
    "# Setup feedback system\n",
    "from learntools.core import binder\n",
    "binder.bind(globals())\n",
    "from learntools.computer_vision.ex1 import *\n",
    "\n",
    "# Imports\n",
    "import os, warnings\n",
    "import matplotlib.pyplot as plt\n",
    "from matplotlib import gridspec\n",
    "\n",
    "import numpy as np\n",
    "import tensorflow as tf\n",
    "from tensorflow.keras.preprocessing import image_dataset_from_directory\n",
    "\n",
    "# Reproducability\n",
    "def set_seed(seed=31415):\n",
    "    np.random.seed(seed)\n",
    "    tf.random.set_seed(seed)\n",
    "    os.environ['PYTHONHASHSEED'] = str(seed)\n",
    "    os.environ['TF_DETERMINISTIC_OPS'] = '1'\n",
    "set_seed()\n",
    "\n",
    "# Set Matplotlib defaults\n",
    "plt.rc('figure', autolayout=True)\n",
    "plt.rc('axes', labelweight='bold', labelsize='large',\n",
    "       titleweight='bold', titlesize=18, titlepad=10)\n",
    "plt.rc('image', cmap='magma')\n",
    "warnings.filterwarnings(\"ignore\") # to clean up output cells\n",
    "\n",
    "\n",
    "# Load training and validation sets\n",
    "ds_train_ = image_dataset_from_directory(\n",
    "    '../input/car-or-truck/train',\n",
    "    labels='inferred',\n",
    "    label_mode='binary',\n",
    "    image_size=[128, 128],\n",
    "    interpolation='nearest',\n",
    "    batch_size=64,\n",
    "    shuffle=True,\n",
    ")\n",
    "ds_valid_ = image_dataset_from_directory(\n",
    "    '../input/car-or-truck/valid',\n",
    "    labels='inferred',\n",
    "    label_mode='binary',\n",
    "    image_size=[128, 128],\n",
    "    interpolation='nearest',\n",
    "    batch_size=64,\n",
    "    shuffle=False,\n",
    ")\n",
    "\n",
    "# Data Pipeline\n",
    "def convert_to_float(image, label):\n",
    "    image = tf.image.convert_image_dtype(image, dtype=tf.float32)\n",
    "    return image, label\n",
    "\n",
    "AUTOTUNE = tf.data.experimental.AUTOTUNE\n",
    "ds_train = (\n",
    "    ds_train_\n",
    "    .map(convert_to_float)\n",
    "    .cache()\n",
    "    .prefetch(buffer_size=AUTOTUNE)\n",
    ")\n",
    "ds_valid = (\n",
    "    ds_valid_\n",
    "    .map(convert_to_float)\n",
    "    .cache()\n",
    "    .prefetch(buffer_size=AUTOTUNE)\n",
    ")"
   ]
  },
  {
   "cell_type": "markdown",
   "id": "d9f70b38",
   "metadata": {
    "_cell_guid": "a937e713-4fba-4e8f-b904-e44aed305565",
    "_uuid": "2ed989d3-4918-4a40-8259-d283f114dd02",
    "papermill": {
     "duration": 0.004988,
     "end_time": "2023-05-05T07:37:13.393476",
     "exception": false,
     "start_time": "2023-05-05T07:37:13.388488",
     "status": "completed"
    },
    "tags": []
   },
   "source": [
    "The **InceptionV1** model pretrained on ImageNet is available in the [TensorFlow Hub](https://www.tensorflow.org/hub/) repository, but we'll load it from a local copy. Run this cell to load InceptionV1 for your base."
   ]
  },
  {
   "cell_type": "code",
   "execution_count": 2,
   "id": "aeb56ee3",
   "metadata": {
    "_cell_guid": "c4abd3bf-501f-47dc-bae2-c09759bb4855",
    "_uuid": "cfa9dbdd-bea2-43db-84b7-010b925badff",
    "collapsed": false,
    "execution": {
     "iopub.execute_input": "2023-05-05T07:37:13.404186Z",
     "iopub.status.busy": "2023-05-05T07:37:13.403598Z",
     "iopub.status.idle": "2023-05-05T07:37:16.863036Z",
     "shell.execute_reply": "2023-05-05T07:37:16.862064Z"
    },
    "jupyter": {
     "outputs_hidden": false
    },
    "lines_to_next_cell": 0,
    "papermill": {
     "duration": 3.477313,
     "end_time": "2023-05-05T07:37:16.875233",
     "exception": false,
     "start_time": "2023-05-05T07:37:13.397920",
     "status": "completed"
    },
    "tags": []
   },
   "outputs": [],
   "source": [
    "import tensorflow_hub as hub\n",
    "\n",
    "pretrained_base = tf.keras.models.load_model(\n",
    "    '../input/cv-course-models/cv-course-models/inceptionv1'\n",
    ")"
   ]
  },
  {
   "cell_type": "markdown",
   "id": "40590932",
   "metadata": {
    "_cell_guid": "4a1307c1-e6c7-46be-942f-cdd65db78bcd",
    "_uuid": "9171ca11-a602-440d-a674-74887d6327aa",
    "papermill": {
     "duration": 0.004428,
     "end_time": "2023-05-05T07:37:16.884754",
     "exception": false,
     "start_time": "2023-05-05T07:37:16.880326",
     "status": "completed"
    },
    "tags": []
   },
   "source": [
    "# 1) Define Pretrained Base #\n",
    "\n",
    "Now that you have a pretrained base to do our feature extraction, decide whether this base should be trainable or not."
   ]
  },
  {
   "cell_type": "code",
   "execution_count": 3,
   "id": "004827d6",
   "metadata": {
    "_cell_guid": "fa5e1b2a-a7fe-4055-a4f3-3757f6364eb5",
    "_uuid": "aa992b39-0896-442c-9857-e30f83762add",
    "collapsed": false,
    "execution": {
     "iopub.execute_input": "2023-05-05T07:37:16.895747Z",
     "iopub.status.busy": "2023-05-05T07:37:16.895411Z",
     "iopub.status.idle": "2023-05-05T07:37:16.904282Z",
     "shell.execute_reply": "2023-05-05T07:37:16.903415Z"
    },
    "jupyter": {
     "outputs_hidden": false
    },
    "lines_to_next_cell": 0,
    "papermill": {
     "duration": 0.016783,
     "end_time": "2023-05-05T07:37:16.906110",
     "exception": false,
     "start_time": "2023-05-05T07:37:16.889327",
     "status": "completed"
    },
    "tags": []
   },
   "outputs": [
    {
     "data": {
      "application/javascript": [
       "parent.postMessage({\"jupyterEvent\": \"custom.exercise_interaction\", \"data\": {\"outcomeType\": 1, \"valueTowardsCompletion\": 0.25, \"interactionType\": 1, \"questionType\": 2, \"questionId\": \"1_Q1\", \"learnToolsVersion\": \"0.3.4\", \"failureMessage\": \"\", \"exceptionClass\": \"\", \"trace\": \"\"}}, \"*\")"
      ],
      "text/plain": [
       "<IPython.core.display.Javascript object>"
      ]
     },
     "metadata": {},
     "output_type": "display_data"
    },
    {
     "data": {
      "text/markdown": [
       "<span style=\"color:#33cc33\">Correct:</span> When doing transfer learning, it's generally not a good idea to retrain the entire base -- at least not without some care. The reason is that the random weights in the head will initially create large gradient updates, which propogate back into the base layers and destroy much of the pretraining. Using techniques known as **fine tuning** it's possible to further train the base on new data, but this requires some care to do well."
      ],
      "text/plain": [
       "Correct: When doing transfer learning, it's generally not a good idea to retrain the entire base -- at least not without some care. The reason is that the random weights in the head will initially create large gradient updates, which propogate back into the base layers and destroy much of the pretraining. Using techniques known as **fine tuning** it's possible to further train the base on new data, but this requires some care to do well."
      ]
     },
     "metadata": {},
     "output_type": "display_data"
    }
   ],
   "source": [
    "# YOUR_CODE_HERE\n",
    "pretrained_base.trainable = False\n",
    "\n",
    "# Check your answer\n",
    "q_1.check()"
   ]
  },
  {
   "cell_type": "code",
   "execution_count": 4,
   "id": "53d50682",
   "metadata": {
    "_cell_guid": "3cce01eb-13cf-45a2-b7e4-5cfcf53ad025",
    "_uuid": "e600b9a4-cca6-4422-84ec-6abccf5de5e2",
    "collapsed": false,
    "execution": {
     "iopub.execute_input": "2023-05-05T07:37:16.919367Z",
     "iopub.status.busy": "2023-05-05T07:37:16.917556Z",
     "iopub.status.idle": "2023-05-05T07:37:16.923040Z",
     "shell.execute_reply": "2023-05-05T07:37:16.922185Z"
    },
    "jupyter": {
     "outputs_hidden": false
    },
    "papermill": {
     "duration": 0.013772,
     "end_time": "2023-05-05T07:37:16.925142",
     "exception": false,
     "start_time": "2023-05-05T07:37:16.911370",
     "status": "completed"
    },
    "tags": []
   },
   "outputs": [],
   "source": [
    "# Lines below will give you a hint or solution code\n",
    "#q_1.hint()\n",
    "#q_1.solution()\n",
    "pretrained_base.trainable = False"
   ]
  },
  {
   "cell_type": "markdown",
   "id": "82c19772",
   "metadata": {
    "_cell_guid": "521da395-6322-45b0-b94a-341f40e28e1d",
    "_uuid": "6b10a112-85c0-49a5-9d54-f7df16114767",
    "papermill": {
     "duration": 0.005018,
     "end_time": "2023-05-05T07:37:16.935215",
     "exception": false,
     "start_time": "2023-05-05T07:37:16.930197",
     "status": "completed"
    },
    "tags": []
   },
   "source": [
    "# 2) Attach Head #\n",
    "\n",
    "Now that the base is defined to do the feature extraction, create a head of `Dense` layers to perform the classification, following this diagram:\n",
    "\n",
    "<figure>\n",
    "<img src=\"https://storage.googleapis.com/kaggle-media/learn/images/i5VU7Ry.png\" alt=\"Diagram of the dense head.\">\n",
    "</figure>"
   ]
  },
  {
   "cell_type": "code",
   "execution_count": 5,
   "id": "4953e1f4",
   "metadata": {
    "_cell_guid": "9ec43b5e-6041-4270-ba7e-b285f96b37b3",
    "_uuid": "e60e6315-b986-47fd-91b1-6587cff684b1",
    "collapsed": false,
    "execution": {
     "iopub.execute_input": "2023-05-05T07:37:16.946634Z",
     "iopub.status.busy": "2023-05-05T07:37:16.946319Z",
     "iopub.status.idle": "2023-05-05T07:37:16.967592Z",
     "shell.execute_reply": "2023-05-05T07:37:16.966590Z"
    },
    "jupyter": {
     "outputs_hidden": false
    },
    "lines_to_next_cell": 0,
    "papermill": {
     "duration": 0.029126,
     "end_time": "2023-05-05T07:37:16.969568",
     "exception": false,
     "start_time": "2023-05-05T07:37:16.940442",
     "status": "completed"
    },
    "tags": []
   },
   "outputs": [
    {
     "data": {
      "application/javascript": [
       "parent.postMessage({\"jupyterEvent\": \"custom.exercise_interaction\", \"data\": {\"outcomeType\": 1, \"valueTowardsCompletion\": 0.25, \"interactionType\": 1, \"questionType\": 2, \"questionId\": \"2_Q2\", \"learnToolsVersion\": \"0.3.4\", \"failureMessage\": \"\", \"exceptionClass\": \"\", \"trace\": \"\"}}, \"*\")"
      ],
      "text/plain": [
       "<IPython.core.display.Javascript object>"
      ]
     },
     "metadata": {},
     "output_type": "display_data"
    },
    {
     "data": {
      "text/markdown": [
       "<span style=\"color:#33cc33\">Correct</span>"
      ],
      "text/plain": [
       "Correct"
      ]
     },
     "metadata": {},
     "output_type": "display_data"
    }
   ],
   "source": [
    "from tensorflow import keras\n",
    "from tensorflow.keras import layers\n",
    "\n",
    "model = keras.Sequential([\n",
    "    pretrained_base,\n",
    "    layers.Flatten(),\n",
    "    layers.Dense(6, activation='relu'),\n",
    "    layers.Dense(1, activation=\"sigmoid\"),\n",
    "])\n",
    "# Check your answer\n",
    "q_2.check()"
   ]
  },
  {
   "cell_type": "code",
   "execution_count": 6,
   "id": "c4be57bd",
   "metadata": {
    "_cell_guid": "2af8e74f-9884-4124-a840-06a408acb05a",
    "_uuid": "00ef8cbc-7a55-40fa-a956-6482f63d689c",
    "collapsed": false,
    "execution": {
     "iopub.execute_input": "2023-05-05T07:37:16.981557Z",
     "iopub.status.busy": "2023-05-05T07:37:16.981257Z",
     "iopub.status.idle": "2023-05-05T07:37:16.985275Z",
     "shell.execute_reply": "2023-05-05T07:37:16.984367Z"
    },
    "jupyter": {
     "outputs_hidden": false
    },
    "papermill": {
     "duration": 0.012095,
     "end_time": "2023-05-05T07:37:16.987088",
     "exception": false,
     "start_time": "2023-05-05T07:37:16.974993",
     "status": "completed"
    },
    "tags": []
   },
   "outputs": [],
   "source": [
    "# Lines below will give you a hint or solution code\n",
    "#q_2.hint()\n",
    "#q_2.solution()"
   ]
  },
  {
   "cell_type": "markdown",
   "id": "6792585a",
   "metadata": {
    "_cell_guid": "7f9733ea-4c1d-4999-905a-23fac3af4f8c",
    "_uuid": "66a338bc-78a5-42a9-a387-e120ad550dab",
    "papermill": {
     "duration": 0.004719,
     "end_time": "2023-05-05T07:37:16.997198",
     "exception": false,
     "start_time": "2023-05-05T07:37:16.992479",
     "status": "completed"
    },
    "tags": []
   },
   "source": [
    "# 3) Train #\n",
    "\n",
    "Before training a model in Keras, you need to specify an *optimizer* to perform the gradient descent, a *loss function* to be minimized, and (optionally) any *performance metrics*. The optimization algorithm we'll use for this course is called [\"Adam\"](https://keras.io/api/optimizers/adam/), which generally performs well regardless of what kind of problem you're trying to solve.\n",
    "\n",
    "The loss and the metrics, however, need to match the kind of problem you're trying to solve. Our problem is a **binary classification** problem: `Car` coded as 0, and `Truck` coded as 1. Choose an appropriate loss and an appropriate accuracy metric for binary classification."
   ]
  },
  {
   "cell_type": "code",
   "execution_count": 7,
   "id": "eac77474",
   "metadata": {
    "_cell_guid": "75392175-d897-4926-afd2-37559610f5d1",
    "_uuid": "e7b5c406-19aa-4369-af7e-ad18c98efcb5",
    "collapsed": false,
    "execution": {
     "iopub.execute_input": "2023-05-05T07:37:17.008947Z",
     "iopub.status.busy": "2023-05-05T07:37:17.008149Z",
     "iopub.status.idle": "2023-05-05T07:37:17.032891Z",
     "shell.execute_reply": "2023-05-05T07:37:17.032039Z"
    },
    "jupyter": {
     "outputs_hidden": false
    },
    "lines_to_next_cell": 0,
    "papermill": {
     "duration": 0.032316,
     "end_time": "2023-05-05T07:37:17.034677",
     "exception": false,
     "start_time": "2023-05-05T07:37:17.002361",
     "status": "completed"
    },
    "tags": []
   },
   "outputs": [
    {
     "data": {
      "application/javascript": [
       "parent.postMessage({\"jupyterEvent\": \"custom.exercise_interaction\", \"data\": {\"outcomeType\": 1, \"valueTowardsCompletion\": 0.25, \"interactionType\": 1, \"questionType\": 2, \"questionId\": \"3_Q3\", \"learnToolsVersion\": \"0.3.4\", \"failureMessage\": \"\", \"exceptionClass\": \"\", \"trace\": \"\"}}, \"*\")"
      ],
      "text/plain": [
       "<IPython.core.display.Javascript object>"
      ]
     },
     "metadata": {},
     "output_type": "display_data"
    },
    {
     "data": {
      "text/markdown": [
       "<span style=\"color:#33cc33\">Correct</span>"
      ],
      "text/plain": [
       "Correct"
      ]
     },
     "metadata": {},
     "output_type": "display_data"
    }
   ],
   "source": [
    "# YOUR CODE HERE: what loss function should you use for a binary\n",
    "# classification problem? (Your answer for each should be a string.)\n",
    "optimizer = tf.keras.optimizers.Adam(epsilon=0.01)\n",
    "model.compile(\n",
    "    optimizer=optimizer,\n",
    "    loss = \"binary_crossentropy\",\n",
    "    metrics=['binary_accuracy'],\n",
    ")\n",
    "\n",
    "# Check your answer\n",
    "q_3.check()"
   ]
  },
  {
   "cell_type": "code",
   "execution_count": 8,
   "id": "9014206e",
   "metadata": {
    "_cell_guid": "8f5877ec-a8bf-4aa5-96ad-0571d0e5ff79",
    "_uuid": "4e178afc-965f-4238-84ad-a2731f46ca33",
    "collapsed": false,
    "execution": {
     "iopub.execute_input": "2023-05-05T07:37:17.046807Z",
     "iopub.status.busy": "2023-05-05T07:37:17.046067Z",
     "iopub.status.idle": "2023-05-05T07:37:17.049936Z",
     "shell.execute_reply": "2023-05-05T07:37:17.048962Z"
    },
    "jupyter": {
     "outputs_hidden": false
    },
    "lines_to_next_cell": 0,
    "papermill": {
     "duration": 0.011949,
     "end_time": "2023-05-05T07:37:17.051928",
     "exception": false,
     "start_time": "2023-05-05T07:37:17.039979",
     "status": "completed"
    },
    "tags": []
   },
   "outputs": [],
   "source": [
    "# Lines below will give you a hint or solution code\n",
    "#q_3.hint()\n",
    "#q_3.solution()"
   ]
  },
  {
   "cell_type": "code",
   "execution_count": 9,
   "id": "9605a882",
   "metadata": {
    "_cell_guid": "9a7b082e-ccf3-41cc-b69f-ae6db0c7331f",
    "_uuid": "ab3c77b4-2294-4af7-be4c-ac3637b3630e",
    "collapsed": false,
    "execution": {
     "iopub.execute_input": "2023-05-05T07:37:17.064099Z",
     "iopub.status.busy": "2023-05-05T07:37:17.063328Z",
     "iopub.status.idle": "2023-05-05T07:40:09.936913Z",
     "shell.execute_reply": "2023-05-05T07:40:09.935857Z"
    },
    "jupyter": {
     "outputs_hidden": false
    },
    "papermill": {
     "duration": 172.881977,
     "end_time": "2023-05-05T07:40:09.939085",
     "exception": false,
     "start_time": "2023-05-05T07:37:17.057108",
     "status": "completed"
    },
    "tags": []
   },
   "outputs": [
    {
     "name": "stdout",
     "output_type": "stream",
     "text": [
      "Epoch 1/30\n",
      "80/80 [==============================] - 42s 369ms/step - loss: 0.6363 - binary_accuracy: 0.6541 - val_loss: 0.4735 - val_binary_accuracy: 0.7893\n",
      "Epoch 2/30\n",
      "80/80 [==============================] - 4s 55ms/step - loss: 0.4412 - binary_accuracy: 0.8018 - val_loss: 0.4051 - val_binary_accuracy: 0.8262\n",
      "Epoch 3/30\n",
      "80/80 [==============================] - 4s 55ms/step - loss: 0.3993 - binary_accuracy: 0.8255 - val_loss: 0.3854 - val_binary_accuracy: 0.8335\n",
      "Epoch 4/30\n",
      "80/80 [==============================] - 4s 56ms/step - loss: 0.3800 - binary_accuracy: 0.8364 - val_loss: 0.3745 - val_binary_accuracy: 0.8375\n",
      "Epoch 5/30\n",
      "80/80 [==============================] - 4s 55ms/step - loss: 0.3664 - binary_accuracy: 0.8429 - val_loss: 0.3674 - val_binary_accuracy: 0.8412\n",
      "Epoch 6/30\n",
      "80/80 [==============================] - 4s 55ms/step - loss: 0.3558 - binary_accuracy: 0.8476 - val_loss: 0.3622 - val_binary_accuracy: 0.8440\n",
      "Epoch 7/30\n",
      "80/80 [==============================] - 4s 55ms/step - loss: 0.3468 - binary_accuracy: 0.8515 - val_loss: 0.3578 - val_binary_accuracy: 0.8456\n",
      "Epoch 8/30\n",
      "80/80 [==============================] - 4s 54ms/step - loss: 0.3391 - binary_accuracy: 0.8568 - val_loss: 0.3546 - val_binary_accuracy: 0.8476\n",
      "Epoch 9/30\n",
      "80/80 [==============================] - 4s 54ms/step - loss: 0.3323 - binary_accuracy: 0.8605 - val_loss: 0.3519 - val_binary_accuracy: 0.8493\n",
      "Epoch 10/30\n",
      "80/80 [==============================] - 4s 55ms/step - loss: 0.3262 - binary_accuracy: 0.8640 - val_loss: 0.3496 - val_binary_accuracy: 0.8491\n",
      "Epoch 11/30\n",
      "80/80 [==============================] - 4s 56ms/step - loss: 0.3207 - binary_accuracy: 0.8665 - val_loss: 0.3477 - val_binary_accuracy: 0.8499\n",
      "Epoch 12/30\n",
      "80/80 [==============================] - 4s 55ms/step - loss: 0.3156 - binary_accuracy: 0.8695 - val_loss: 0.3460 - val_binary_accuracy: 0.8515\n",
      "Epoch 13/30\n",
      "80/80 [==============================] - 4s 54ms/step - loss: 0.3109 - binary_accuracy: 0.8716 - val_loss: 0.3444 - val_binary_accuracy: 0.8511\n",
      "Epoch 14/30\n",
      "80/80 [==============================] - 4s 54ms/step - loss: 0.3065 - binary_accuracy: 0.8730 - val_loss: 0.3431 - val_binary_accuracy: 0.8519\n",
      "Epoch 15/30\n",
      "80/80 [==============================] - 4s 55ms/step - loss: 0.3025 - binary_accuracy: 0.8741 - val_loss: 0.3419 - val_binary_accuracy: 0.8531\n",
      "Epoch 16/30\n",
      "80/80 [==============================] - 4s 55ms/step - loss: 0.2986 - binary_accuracy: 0.8761 - val_loss: 0.3410 - val_binary_accuracy: 0.8539\n",
      "Epoch 17/30\n",
      "80/80 [==============================] - 4s 54ms/step - loss: 0.2950 - binary_accuracy: 0.8788 - val_loss: 0.3402 - val_binary_accuracy: 0.8547\n",
      "Epoch 18/30\n",
      "80/80 [==============================] - 4s 56ms/step - loss: 0.2916 - binary_accuracy: 0.8804 - val_loss: 0.3395 - val_binary_accuracy: 0.8553\n",
      "Epoch 19/30\n",
      "80/80 [==============================] - 4s 54ms/step - loss: 0.2883 - binary_accuracy: 0.8822 - val_loss: 0.3389 - val_binary_accuracy: 0.8553\n",
      "Epoch 20/30\n",
      "80/80 [==============================] - 4s 55ms/step - loss: 0.2852 - binary_accuracy: 0.8849 - val_loss: 0.3382 - val_binary_accuracy: 0.8557\n",
      "Epoch 21/30\n",
      "80/80 [==============================] - 4s 54ms/step - loss: 0.2822 - binary_accuracy: 0.8853 - val_loss: 0.3378 - val_binary_accuracy: 0.8575\n",
      "Epoch 22/30\n",
      "80/80 [==============================] - 4s 55ms/step - loss: 0.2793 - binary_accuracy: 0.8872 - val_loss: 0.3370 - val_binary_accuracy: 0.8582\n",
      "Epoch 23/30\n",
      "80/80 [==============================] - 4s 54ms/step - loss: 0.2764 - binary_accuracy: 0.8890 - val_loss: 0.3370 - val_binary_accuracy: 0.8594\n",
      "Epoch 24/30\n",
      "80/80 [==============================] - 4s 54ms/step - loss: 0.2736 - binary_accuracy: 0.8904 - val_loss: 0.3365 - val_binary_accuracy: 0.8598\n",
      "Epoch 25/30\n",
      "80/80 [==============================] - 4s 56ms/step - loss: 0.2709 - binary_accuracy: 0.8911 - val_loss: 0.3362 - val_binary_accuracy: 0.8602\n",
      "Epoch 26/30\n",
      "80/80 [==============================] - 4s 54ms/step - loss: 0.2683 - binary_accuracy: 0.8919 - val_loss: 0.3359 - val_binary_accuracy: 0.8606\n",
      "Epoch 27/30\n",
      "80/80 [==============================] - 4s 55ms/step - loss: 0.2658 - binary_accuracy: 0.8931 - val_loss: 0.3362 - val_binary_accuracy: 0.8614\n",
      "Epoch 28/30\n",
      "80/80 [==============================] - 4s 54ms/step - loss: 0.2633 - binary_accuracy: 0.8931 - val_loss: 0.3354 - val_binary_accuracy: 0.8614\n",
      "Epoch 29/30\n",
      "80/80 [==============================] - 4s 55ms/step - loss: 0.2611 - binary_accuracy: 0.8943 - val_loss: 0.3358 - val_binary_accuracy: 0.8612\n",
      "Epoch 30/30\n",
      "80/80 [==============================] - 4s 54ms/step - loss: 0.2585 - binary_accuracy: 0.8974 - val_loss: 0.3357 - val_binary_accuracy: 0.8610\n"
     ]
    }
   ],
   "source": [
    "history = model.fit(\n",
    "    ds_train,\n",
    "    validation_data=ds_valid,\n",
    "    epochs=30,\n",
    ")"
   ]
  },
  {
   "cell_type": "markdown",
   "id": "cb03deee",
   "metadata": {
    "_cell_guid": "27d535a3-6e47-414b-9510-737cf10954b9",
    "_uuid": "f7762940-7425-49eb-872d-fe180857e94d",
    "papermill": {
     "duration": 0.07195,
     "end_time": "2023-05-05T07:40:10.084891",
     "exception": false,
     "start_time": "2023-05-05T07:40:10.012941",
     "status": "completed"
    },
    "tags": []
   },
   "source": [
    "Run the cell below to plot the loss and metric curves for this training run."
   ]
  },
  {
   "cell_type": "code",
   "execution_count": 10,
   "id": "313329ff",
   "metadata": {
    "_cell_guid": "7c78c6b9-063b-47e8-aaf6-4ce82cabc115",
    "_uuid": "57dfe843-83f4-466b-bb08-e1128776a3fa",
    "collapsed": false,
    "execution": {
     "iopub.execute_input": "2023-05-05T07:40:10.228873Z",
     "iopub.status.busy": "2023-05-05T07:40:10.228519Z",
     "iopub.status.idle": "2023-05-05T07:40:11.251730Z",
     "shell.execute_reply": "2023-05-05T07:40:11.250809Z"
    },
    "jupyter": {
     "outputs_hidden": false
    },
    "papermill": {
     "duration": 1.097492,
     "end_time": "2023-05-05T07:40:11.253676",
     "exception": false,
     "start_time": "2023-05-05T07:40:10.156184",
     "status": "completed"
    },
    "tags": []
   },
   "outputs": [
    {
     "data": {
      "image/png": "[encoded data removed]",
      "text/plain": [
       "<Figure size 640x480 with 1 Axes>"
      ]
     },
     "metadata": {},
     "output_type": "display_data"
    },
    {
     "data": {
      "image/png": "[encoded data removed]",
      "text/plain": [
       "<Figure size 640x480 with 1 Axes>"
      ]
     },
     "metadata": {},
     "output_type": "display_data"
    }
   ],
   "source": [
    "import pandas as pd\n",
    "history_frame = pd.DataFrame(history.history)\n",
    "history_frame.loc[:, ['loss', 'val_loss']].plot()\n",
    "history_frame.loc[:, ['binary_accuracy', 'val_binary_accuracy']].plot();"
   ]
  },
  {
   "cell_type": "markdown",
   "id": "a248f5f1",
   "metadata": {
    "_cell_guid": "f11f8bf1-c27b-4655-ab3f-248c2c0dea9f",
    "_uuid": "ed979a78-a41b-43bd-82ab-1232ffa3b6d9",
    "papermill": {
     "duration": 0.072285,
     "end_time": "2023-05-05T07:40:11.397605",
     "exception": false,
     "start_time": "2023-05-05T07:40:11.325320",
     "status": "completed"
    },
    "tags": []
   },
   "source": [
    "# 4) Examine Loss and Accuracy #\n",
    "\n",
    "Do you notice a difference between these learning curves and the curves for VGG16 from the tutorial? What does this difference tell you about what this model (InceptionV2) learned compared to VGG16? Are there ways in which one is better than the other? Worse?\n",
    "\n",
    "After you've thought about it, run the cell below to see the answer."
   ]
  },
  {
   "cell_type": "code",
   "execution_count": 11,
   "id": "9ea3f883",
   "metadata": {
    "_cell_guid": "74190ed9-6dcd-42e5-8979-e8502aaceaa5",
    "_uuid": "6725d11b-6c13-4bb7-9e24-8b4672aedbc6",
    "collapsed": false,
    "execution": {
     "iopub.execute_input": "2023-05-05T07:40:11.541896Z",
     "iopub.status.busy": "2023-05-05T07:40:11.541560Z",
     "iopub.status.idle": "2023-05-05T07:40:11.549632Z",
     "shell.execute_reply": "2023-05-05T07:40:11.548670Z"
    },
    "jupyter": {
     "outputs_hidden": false
    },
    "papermill": {
     "duration": 0.083912,
     "end_time": "2023-05-05T07:40:11.552656",
     "exception": false,
     "start_time": "2023-05-05T07:40:11.468744",
     "status": "completed"
    },
    "tags": []
   },
   "outputs": [
    {
     "data": {
      "application/javascript": [
       "parent.postMessage({\"jupyterEvent\": \"custom.exercise_interaction\", \"data\": {\"outcomeType\": 1, \"valueTowardsCompletion\": 0.25, \"interactionType\": 1, \"questionType\": 4, \"questionId\": \"4_Q4\", \"learnToolsVersion\": \"0.3.4\", \"failureMessage\": \"\", \"exceptionClass\": \"\", \"trace\": \"\"}}, \"*\")"
      ],
      "text/plain": [
       "<IPython.core.display.Javascript object>"
      ]
     },
     "metadata": {},
     "output_type": "display_data"
    },
    {
     "data": {
      "text/markdown": [
       "<span style=\"color:#33cc33\">Correct:</span> \n",
       "\n",
       "That the training loss and validation loss stay fairly close is evidence that the model isn't just memorizing the training data, but rather learning general properties of the two classes. But, because this model converges at a loss greater than the VGG16 model, it's likely that it is underfitting some, and could benefit from some extra capacity.\n"
      ],
      "text/plain": [
       "Correct: \n",
       "\n",
       "That the training loss and validation loss stay fairly close is evidence that the model isn't just memorizing the training data, but rather learning general properties of the two classes. But, because this model converges at a loss greater than the VGG16 model, it's likely that it is underfitting some, and could benefit from some extra capacity."
      ]
     },
     "metadata": {},
     "output_type": "display_data"
    }
   ],
   "source": [
    "# View the solution (Run this code cell to receive credit!)\n",
    "q_4.check()"
   ]
  },
  {
   "cell_type": "markdown",
   "id": "67940c28",
   "metadata": {
    "_cell_guid": "4e337ad1-3605-4ff6-b672-c07c58e46001",
    "_uuid": "dc179f08-db72-4273-88e9-1a43f9fe20d2",
    "papermill": {
     "duration": 0.071502,
     "end_time": "2023-05-05T07:40:11.696040",
     "exception": false,
     "start_time": "2023-05-05T07:40:11.624538",
     "status": "completed"
    },
    "tags": []
   },
   "source": [
    "# Conclusion #\n",
    "\n",
    "In this first lesson, you learned the basics of **convolutional image classifiers**, that they consist of a **base** for extracting features from images, and a **head** which uses the features to decide the image's class. You also saw how to build a classifier with **transfer learning** on pretrained base."
   ]
  },
  {
   "cell_type": "markdown",
   "id": "a283b3c7",
   "metadata": {
    "_cell_guid": "19b61d1d-a455-4938-b865-8945514a5c8c",
    "_uuid": "527a8187-2212-4f94-b416-963a29c43809",
    "papermill": {
     "duration": 0.073688,
     "end_time": "2023-05-05T07:40:11.841305",
     "exception": false,
     "start_time": "2023-05-05T07:40:11.767617",
     "status": "completed"
    },
    "tags": []
   },
   "source": [
    "# Keep Going #\n",
    "\n",
    "Move on to [**Lesson 2**](https://www.kaggle.com/ryanholbrook/convolution-and-relu) for a detailed look at how the base does this feature extraction. (It's really cool!)"
   ]
  },
  {
   "cell_type": "markdown",
   "id": "978fb816",
   "metadata": {
    "_cell_guid": "5c032dd1-2609-4b93-8f84-691cca666d6d",
    "_uuid": "ea5b1fad-bf61-473f-8ab4-de47213b7bf0",
    "papermill": {
     "duration": 0.073644,
     "end_time": "2023-05-05T07:40:11.987936",
     "exception": false,
     "start_time": "2023-05-05T07:40:11.914292",
     "status": "completed"
    },
    "tags": []
   },
   "source": [
    "---\n",
    "\n",
    "\n",
    "\n",
    "\n",
    "*Have questions or comments? Visit the [course discussion forum](https://www.kaggle.com/learn/computer-vision/discussion) to chat with other learners.*"
   ]
  }
 ],
 "metadata": {
  "kernelspec": {
   "display_name": "Python 3",
   "language": "python",
   "name": "python3"
  },
  "language_info": {
   "codemirror_mode": {
    "name": "ipython",
    "version": 3
   },
   "file_extension": ".py",
   "mimetype": "text/x-python",
   "name": "python",
   "nbconvert_exporter": "python",
   "pygments_lexer": "ipython3",
   "version": "3.10.10"
  },
  "papermill": {
   "default_parameters": {},
   "duration": 208.733522,
   "end_time": "2023-05-05T07:40:15.982228",
   "environment_variables": {},
   "exception": null,
   "input_path": "__notebook__.ipynb",
   "output_path": "__notebook__.ipynb",
   "parameters": {},
   "start_time": "2023-05-05T07:36:47.248706",
   "version": "2.4.0"
  }
 },
 "nbformat": 4,
 "nbformat_minor": 5
}
